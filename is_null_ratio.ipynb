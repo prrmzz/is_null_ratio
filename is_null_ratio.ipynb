{
 "cells": [
  {
   "cell_type": "code",
   "execution_count": 102,
   "id": "d3de91d3",
   "metadata": {},
   "outputs": [],
   "source": [
    "# this function represents the percentage of null amounts of each column\n",
    "# the only thing that you should change, would be 'df' to your own dataset name!\n",
    "# it is so useful in order to opt the best strategy for your dataset nulls!"
   ]
  },
  {
   "cell_type": "code",
   "execution_count": 99,
   "id": "d46af051",
   "metadata": {},
   "outputs": [],
   "source": [
    "def is_null_ratio():\n",
    "    print('*** NULL PERCENTAGE PER EACH COLUMN ***')\n",
    "    for i in df :\n",
    "        a = (df[i].isnull().sum() / df[i].count()) * 100\n",
    "        print(f'{i} = {a.round()}%')\n",
    "    return"
   ]
  }
 ],
 "metadata": {
  "kernelspec": {
   "display_name": "Python 3",
   "language": "python",
   "name": "python3"
  },
  "language_info": {
   "codemirror_mode": {
    "name": "ipython",
    "version": 3
   },
   "file_extension": ".py",
   "mimetype": "text/x-python",
   "name": "python",
   "nbconvert_exporter": "python",
   "pygments_lexer": "ipython3",
   "version": "3.8.8"
  }
 },
 "nbformat": 4,
 "nbformat_minor": 5
}
